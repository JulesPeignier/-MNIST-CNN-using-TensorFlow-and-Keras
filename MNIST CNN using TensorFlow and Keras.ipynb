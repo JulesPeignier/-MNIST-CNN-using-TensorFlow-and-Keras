{
 "cells": [
  {
   "cell_type": "code",
   "execution_count": 13,
   "metadata": {},
   "outputs": [],
   "source": [
    "#Convolutional Neural Network on MNIST handwritten digit dataset"
   ]
  },
  {
   "cell_type": "code",
   "execution_count": 49,
   "metadata": {},
   "outputs": [],
   "source": [
    "import tensorflow as tf"
   ]
  },
  {
   "cell_type": "code",
   "execution_count": 15,
   "metadata": {},
   "outputs": [],
   "source": [
    "#Importing librairies\n",
    "\n",
    "import keras\n",
    "from keras.models import Sequential\n",
    "from keras.layers.core import Dense, Dropout, Activation, Flatten\n",
    "from keras.layers.convolutional import Convolution2D, MaxPooling2D\n",
    "from sklearn.model_selection import train_test_split\n",
    "import pandas as pd\n",
    "import numpy as np\n",
    "import matplotlib.pyplot as plt"
   ]
  },
  {
   "cell_type": "code",
   "execution_count": 16,
   "metadata": {},
   "outputs": [],
   "source": [
    "#Importing the data\n",
    "data1_train = pd.read_csv('Data/mnist_train.csv')\n",
    "data1_test = pd.read_csv('Data/mnist_test.csv')"
   ]
  },
  {
   "cell_type": "code",
   "execution_count": 17,
   "metadata": {
    "scrolled": true
   },
   "outputs": [],
   "source": [
    "#Preprocessing\n",
    "\n",
    "#Reshaping into 28x28 array\n",
    "data1_train.iloc[3,1:].values.reshape(28, 28).astype('uint8')\n",
    "data1_test.iloc[3,1:].values.reshape(28, 28).astype('uint8')\n",
    "\n",
    "#Storing Pixel array in form length width and channel in x1_train and x1_test\n",
    "x1_train = data1_train.iloc[:,1:].values.reshape(len(data1_train), 28, 28, 1)\n",
    "x1_test = data1_test.iloc[:,1:].values.reshape(len(data1_test), 28, 28, 1)\n",
    "\n",
    "#Storing the labels in y1_train and y1_test \n",
    "y1_train = data1_train.iloc[:,0].values\n",
    "y1_test = data1_test.iloc[:,0].values\n",
    "\n",
    "y1 = y1_test\n",
    "\n",
    "#Converting labels to categorical features\n",
    "\n",
    "y1_train = tf.keras.utils.to_categorical(y1_train, num_classes = 10)\n",
    "y1_test = tf.keras.utils.to_categorical(y1_test, num_classes = 10)"
   ]
  },
  {
   "cell_type": "code",
   "execution_count": 18,
   "metadata": {},
   "outputs": [],
   "source": [
    "#Another way to do it\n",
    "\n",
    "(x2_train, y2_train), (x2_test, y2_test) = keras.datasets.mnist.load_data()\n",
    "\n",
    "x2_train = x2_train.reshape(-1,28,28,1)\n",
    "x2_test  = x2_test.reshape(-1,28,28,1)\n",
    "\n",
    "#Converting labels to categorical features\n",
    "\n",
    "y2_train = tf.keras.utils.to_categorical(y2_train, num_classes = 10)\n",
    "y2_test = tf.keras.utils.to_categorical(y2_test, num_classes = 10)"
   ]
  },
  {
   "cell_type": "code",
   "execution_count": 19,
   "metadata": {
    "scrolled": true
   },
   "outputs": [
    {
     "data": {
      "text/html": [
       "<div>\n",
       "<style scoped>\n",
       "    .dataframe tbody tr th:only-of-type {\n",
       "        vertical-align: middle;\n",
       "    }\n",
       "\n",
       "    .dataframe tbody tr th {\n",
       "        vertical-align: top;\n",
       "    }\n",
       "\n",
       "    .dataframe thead th {\n",
       "        text-align: right;\n",
       "    }\n",
       "</style>\n",
       "<table border=\"1\" class=\"dataframe\">\n",
       "  <thead>\n",
       "    <tr style=\"text-align: right;\">\n",
       "      <th></th>\n",
       "      <th>label</th>\n",
       "      <th>1x1</th>\n",
       "      <th>1x2</th>\n",
       "      <th>1x3</th>\n",
       "      <th>1x4</th>\n",
       "      <th>1x5</th>\n",
       "      <th>1x6</th>\n",
       "      <th>1x7</th>\n",
       "      <th>1x8</th>\n",
       "      <th>1x9</th>\n",
       "      <th>...</th>\n",
       "      <th>28x19</th>\n",
       "      <th>28x20</th>\n",
       "      <th>28x21</th>\n",
       "      <th>28x22</th>\n",
       "      <th>28x23</th>\n",
       "      <th>28x24</th>\n",
       "      <th>28x25</th>\n",
       "      <th>28x26</th>\n",
       "      <th>28x27</th>\n",
       "      <th>28x28</th>\n",
       "    </tr>\n",
       "  </thead>\n",
       "  <tbody>\n",
       "    <tr>\n",
       "      <th>0</th>\n",
       "      <td>5</td>\n",
       "      <td>0</td>\n",
       "      <td>0</td>\n",
       "      <td>0</td>\n",
       "      <td>0</td>\n",
       "      <td>0</td>\n",
       "      <td>0</td>\n",
       "      <td>0</td>\n",
       "      <td>0</td>\n",
       "      <td>0</td>\n",
       "      <td>...</td>\n",
       "      <td>0</td>\n",
       "      <td>0</td>\n",
       "      <td>0</td>\n",
       "      <td>0</td>\n",
       "      <td>0</td>\n",
       "      <td>0</td>\n",
       "      <td>0</td>\n",
       "      <td>0</td>\n",
       "      <td>0</td>\n",
       "      <td>0</td>\n",
       "    </tr>\n",
       "    <tr>\n",
       "      <th>1</th>\n",
       "      <td>0</td>\n",
       "      <td>0</td>\n",
       "      <td>0</td>\n",
       "      <td>0</td>\n",
       "      <td>0</td>\n",
       "      <td>0</td>\n",
       "      <td>0</td>\n",
       "      <td>0</td>\n",
       "      <td>0</td>\n",
       "      <td>0</td>\n",
       "      <td>...</td>\n",
       "      <td>0</td>\n",
       "      <td>0</td>\n",
       "      <td>0</td>\n",
       "      <td>0</td>\n",
       "      <td>0</td>\n",
       "      <td>0</td>\n",
       "      <td>0</td>\n",
       "      <td>0</td>\n",
       "      <td>0</td>\n",
       "      <td>0</td>\n",
       "    </tr>\n",
       "    <tr>\n",
       "      <th>2</th>\n",
       "      <td>4</td>\n",
       "      <td>0</td>\n",
       "      <td>0</td>\n",
       "      <td>0</td>\n",
       "      <td>0</td>\n",
       "      <td>0</td>\n",
       "      <td>0</td>\n",
       "      <td>0</td>\n",
       "      <td>0</td>\n",
       "      <td>0</td>\n",
       "      <td>...</td>\n",
       "      <td>0</td>\n",
       "      <td>0</td>\n",
       "      <td>0</td>\n",
       "      <td>0</td>\n",
       "      <td>0</td>\n",
       "      <td>0</td>\n",
       "      <td>0</td>\n",
       "      <td>0</td>\n",
       "      <td>0</td>\n",
       "      <td>0</td>\n",
       "    </tr>\n",
       "    <tr>\n",
       "      <th>3</th>\n",
       "      <td>1</td>\n",
       "      <td>0</td>\n",
       "      <td>0</td>\n",
       "      <td>0</td>\n",
       "      <td>0</td>\n",
       "      <td>0</td>\n",
       "      <td>0</td>\n",
       "      <td>0</td>\n",
       "      <td>0</td>\n",
       "      <td>0</td>\n",
       "      <td>...</td>\n",
       "      <td>0</td>\n",
       "      <td>0</td>\n",
       "      <td>0</td>\n",
       "      <td>0</td>\n",
       "      <td>0</td>\n",
       "      <td>0</td>\n",
       "      <td>0</td>\n",
       "      <td>0</td>\n",
       "      <td>0</td>\n",
       "      <td>0</td>\n",
       "    </tr>\n",
       "    <tr>\n",
       "      <th>4</th>\n",
       "      <td>9</td>\n",
       "      <td>0</td>\n",
       "      <td>0</td>\n",
       "      <td>0</td>\n",
       "      <td>0</td>\n",
       "      <td>0</td>\n",
       "      <td>0</td>\n",
       "      <td>0</td>\n",
       "      <td>0</td>\n",
       "      <td>0</td>\n",
       "      <td>...</td>\n",
       "      <td>0</td>\n",
       "      <td>0</td>\n",
       "      <td>0</td>\n",
       "      <td>0</td>\n",
       "      <td>0</td>\n",
       "      <td>0</td>\n",
       "      <td>0</td>\n",
       "      <td>0</td>\n",
       "      <td>0</td>\n",
       "      <td>0</td>\n",
       "    </tr>\n",
       "    <tr>\n",
       "      <th>...</th>\n",
       "      <td>...</td>\n",
       "      <td>...</td>\n",
       "      <td>...</td>\n",
       "      <td>...</td>\n",
       "      <td>...</td>\n",
       "      <td>...</td>\n",
       "      <td>...</td>\n",
       "      <td>...</td>\n",
       "      <td>...</td>\n",
       "      <td>...</td>\n",
       "      <td>...</td>\n",
       "      <td>...</td>\n",
       "      <td>...</td>\n",
       "      <td>...</td>\n",
       "      <td>...</td>\n",
       "      <td>...</td>\n",
       "      <td>...</td>\n",
       "      <td>...</td>\n",
       "      <td>...</td>\n",
       "      <td>...</td>\n",
       "      <td>...</td>\n",
       "    </tr>\n",
       "    <tr>\n",
       "      <th>59995</th>\n",
       "      <td>8</td>\n",
       "      <td>0</td>\n",
       "      <td>0</td>\n",
       "      <td>0</td>\n",
       "      <td>0</td>\n",
       "      <td>0</td>\n",
       "      <td>0</td>\n",
       "      <td>0</td>\n",
       "      <td>0</td>\n",
       "      <td>0</td>\n",
       "      <td>...</td>\n",
       "      <td>0</td>\n",
       "      <td>0</td>\n",
       "      <td>0</td>\n",
       "      <td>0</td>\n",
       "      <td>0</td>\n",
       "      <td>0</td>\n",
       "      <td>0</td>\n",
       "      <td>0</td>\n",
       "      <td>0</td>\n",
       "      <td>0</td>\n",
       "    </tr>\n",
       "    <tr>\n",
       "      <th>59996</th>\n",
       "      <td>3</td>\n",
       "      <td>0</td>\n",
       "      <td>0</td>\n",
       "      <td>0</td>\n",
       "      <td>0</td>\n",
       "      <td>0</td>\n",
       "      <td>0</td>\n",
       "      <td>0</td>\n",
       "      <td>0</td>\n",
       "      <td>0</td>\n",
       "      <td>...</td>\n",
       "      <td>0</td>\n",
       "      <td>0</td>\n",
       "      <td>0</td>\n",
       "      <td>0</td>\n",
       "      <td>0</td>\n",
       "      <td>0</td>\n",
       "      <td>0</td>\n",
       "      <td>0</td>\n",
       "      <td>0</td>\n",
       "      <td>0</td>\n",
       "    </tr>\n",
       "    <tr>\n",
       "      <th>59997</th>\n",
       "      <td>5</td>\n",
       "      <td>0</td>\n",
       "      <td>0</td>\n",
       "      <td>0</td>\n",
       "      <td>0</td>\n",
       "      <td>0</td>\n",
       "      <td>0</td>\n",
       "      <td>0</td>\n",
       "      <td>0</td>\n",
       "      <td>0</td>\n",
       "      <td>...</td>\n",
       "      <td>0</td>\n",
       "      <td>0</td>\n",
       "      <td>0</td>\n",
       "      <td>0</td>\n",
       "      <td>0</td>\n",
       "      <td>0</td>\n",
       "      <td>0</td>\n",
       "      <td>0</td>\n",
       "      <td>0</td>\n",
       "      <td>0</td>\n",
       "    </tr>\n",
       "    <tr>\n",
       "      <th>59998</th>\n",
       "      <td>6</td>\n",
       "      <td>0</td>\n",
       "      <td>0</td>\n",
       "      <td>0</td>\n",
       "      <td>0</td>\n",
       "      <td>0</td>\n",
       "      <td>0</td>\n",
       "      <td>0</td>\n",
       "      <td>0</td>\n",
       "      <td>0</td>\n",
       "      <td>...</td>\n",
       "      <td>0</td>\n",
       "      <td>0</td>\n",
       "      <td>0</td>\n",
       "      <td>0</td>\n",
       "      <td>0</td>\n",
       "      <td>0</td>\n",
       "      <td>0</td>\n",
       "      <td>0</td>\n",
       "      <td>0</td>\n",
       "      <td>0</td>\n",
       "    </tr>\n",
       "    <tr>\n",
       "      <th>59999</th>\n",
       "      <td>8</td>\n",
       "      <td>0</td>\n",
       "      <td>0</td>\n",
       "      <td>0</td>\n",
       "      <td>0</td>\n",
       "      <td>0</td>\n",
       "      <td>0</td>\n",
       "      <td>0</td>\n",
       "      <td>0</td>\n",
       "      <td>0</td>\n",
       "      <td>...</td>\n",
       "      <td>0</td>\n",
       "      <td>0</td>\n",
       "      <td>0</td>\n",
       "      <td>0</td>\n",
       "      <td>0</td>\n",
       "      <td>0</td>\n",
       "      <td>0</td>\n",
       "      <td>0</td>\n",
       "      <td>0</td>\n",
       "      <td>0</td>\n",
       "    </tr>\n",
       "  </tbody>\n",
       "</table>\n",
       "<p>60000 rows × 785 columns</p>\n",
       "</div>"
      ],
      "text/plain": [
       "       label  1x1  1x2  1x3  1x4  1x5  1x6  1x7  1x8  1x9  ...  28x19  28x20  \\\n",
       "0          5    0    0    0    0    0    0    0    0    0  ...      0      0   \n",
       "1          0    0    0    0    0    0    0    0    0    0  ...      0      0   \n",
       "2          4    0    0    0    0    0    0    0    0    0  ...      0      0   \n",
       "3          1    0    0    0    0    0    0    0    0    0  ...      0      0   \n",
       "4          9    0    0    0    0    0    0    0    0    0  ...      0      0   \n",
       "...      ...  ...  ...  ...  ...  ...  ...  ...  ...  ...  ...    ...    ...   \n",
       "59995      8    0    0    0    0    0    0    0    0    0  ...      0      0   \n",
       "59996      3    0    0    0    0    0    0    0    0    0  ...      0      0   \n",
       "59997      5    0    0    0    0    0    0    0    0    0  ...      0      0   \n",
       "59998      6    0    0    0    0    0    0    0    0    0  ...      0      0   \n",
       "59999      8    0    0    0    0    0    0    0    0    0  ...      0      0   \n",
       "\n",
       "       28x21  28x22  28x23  28x24  28x25  28x26  28x27  28x28  \n",
       "0          0      0      0      0      0      0      0      0  \n",
       "1          0      0      0      0      0      0      0      0  \n",
       "2          0      0      0      0      0      0      0      0  \n",
       "3          0      0      0      0      0      0      0      0  \n",
       "4          0      0      0      0      0      0      0      0  \n",
       "...      ...    ...    ...    ...    ...    ...    ...    ...  \n",
       "59995      0      0      0      0      0      0      0      0  \n",
       "59996      0      0      0      0      0      0      0      0  \n",
       "59997      0      0      0      0      0      0      0      0  \n",
       "59998      0      0      0      0      0      0      0      0  \n",
       "59999      0      0      0      0      0      0      0      0  \n",
       "\n",
       "[60000 rows x 785 columns]"
      ]
     },
     "execution_count": 19,
     "metadata": {},
     "output_type": "execute_result"
    }
   ],
   "source": [
    "#Data\n",
    "data1_train"
   ]
  },
  {
   "cell_type": "code",
   "execution_count": 20,
   "metadata": {
    "scrolled": true
   },
   "outputs": [
    {
     "data": {
      "text/plain": [
       "array([7, 2, 1, ..., 4, 5, 6], dtype=int64)"
      ]
     },
     "execution_count": 20,
     "metadata": {},
     "output_type": "execute_result"
    }
   ],
   "source": [
    "#Label before categorical\n",
    "y1"
   ]
  },
  {
   "cell_type": "code",
   "execution_count": 21,
   "metadata": {},
   "outputs": [
    {
     "data": {
      "text/plain": [
       "array([[0., 0., 0., ..., 1., 0., 0.],\n",
       "       [0., 0., 1., ..., 0., 0., 0.],\n",
       "       [0., 1., 0., ..., 0., 0., 0.],\n",
       "       ...,\n",
       "       [0., 0., 0., ..., 0., 0., 0.],\n",
       "       [0., 0., 0., ..., 0., 0., 0.],\n",
       "       [0., 0., 0., ..., 0., 0., 0.]], dtype=float32)"
      ]
     },
     "execution_count": 21,
     "metadata": {},
     "output_type": "execute_result"
    }
   ],
   "source": [
    "#Label after categorical\n",
    "y1_test"
   ]
  },
  {
   "cell_type": "code",
   "execution_count": 22,
   "metadata": {
    "scrolled": false
   },
   "outputs": [
    {
     "name": "stdout",
     "output_type": "stream",
     "text": [
      "\u001b[1mPreprocessing  : first method\u001b[0m\n",
      "x1_train :  (60000, 28, 28, 1)\n",
      "y1_train :  (60000, 10)\n",
      "x1_test  :  (10000, 28, 28, 1)\n",
      "y1_test  :  (10000, 10)\n",
      "\n",
      "\u001b[1mPreprocessing  : second method\u001b[0m\n",
      "x2_train :  (60000, 28, 28, 1)\n",
      "y2_train :  (60000, 10)\n",
      "x2_test  :  (10000, 28, 28, 1)\n",
      "y2_test  :  (10000, 10)\n"
     ]
    }
   ],
   "source": [
    "print('\\033[1m' + \"Preprocessing  : first method\" + '\\033[0m' )\n",
    "print(\"x1_train : \",x1_train.shape)\n",
    "print(\"y1_train : \",y1_train.shape)\n",
    "print(\"x1_test  : \",x1_test.shape)\n",
    "print(\"y1_test  : \",y1_test.shape)\n",
    "\n",
    "print('\\n' + '\\033[1m' + \"Preprocessing  : second method\" + '\\033[0m')\n",
    "print(\"x2_train : \",x2_train.shape)\n",
    "print(\"y2_train : \",y2_train.shape)\n",
    "print(\"x2_test  : \",x2_test.shape)\n",
    "print(\"y2_test  : \",y2_test.shape)"
   ]
  },
  {
   "cell_type": "code",
   "execution_count": 34,
   "metadata": {},
   "outputs": [],
   "source": [
    "#CNN model\n",
    "model = Sequential()\n",
    "\n",
    "model.add(Convolution2D(32, 3, data_format='channels_last', activation='relu', input_shape=(28, 28, 1)))\n",
    "model.add(MaxPooling2D(pool_size=(2, 2)))\n",
    "\n",
    "model.add(Flatten())\n",
    "model.add(Dense(100))\n",
    "model.add(Dropout(0.5))\n",
    "\n",
    "model.add(Dense(10))\n",
    "model.add(Activation('softmax'))\n",
    "\n",
    "model.compile(loss = 'categorical_crossentropy', optimizer = 'adadelta', metrics = ['accuracy'])"
   ]
  },
  {
   "cell_type": "code",
   "execution_count": 24,
   "metadata": {},
   "outputs": [
    {
     "name": "stdout",
     "output_type": "stream",
     "text": [
      "Model: \"sequential\"\n",
      "_________________________________________________________________\n",
      " Layer (type)                Output Shape              Param #   \n",
      "=================================================================\n",
      " conv2d (Conv2D)             (None, 26, 26, 32)        320       \n",
      "                                                                 \n",
      " max_pooling2d (MaxPooling2D  (None, 13, 13, 32)       0         \n",
      " )                                                               \n",
      "                                                                 \n",
      " flatten (Flatten)           (None, 5408)              0         \n",
      "                                                                 \n",
      " dense (Dense)               (None, 100)               540900    \n",
      "                                                                 \n",
      " dropout (Dropout)           (None, 100)               0         \n",
      "                                                                 \n",
      " dense_1 (Dense)             (None, 10)                1010      \n",
      "                                                                 \n",
      " activation (Activation)     (None, 10)                0         \n",
      "                                                                 \n",
      "=================================================================\n",
      "Total params: 542,230\n",
      "Trainable params: 542,230\n",
      "Non-trainable params: 0\n",
      "_________________________________________________________________\n"
     ]
    }
   ],
   "source": [
    "model.summary()"
   ]
  },
  {
   "cell_type": "code",
   "execution_count": 25,
   "metadata": {},
   "outputs": [
    {
     "name": "stdout",
     "output_type": "stream",
     "text": [
      "Epoch 1/5\n",
      "12000/12000 [==============================] - 72s 6ms/step - loss: 29.1768 - accuracy: 0.3838 - val_loss: 5.3294 - val_accuracy: 0.7674\n",
      "Epoch 2/5\n",
      "12000/12000 [==============================] - 70s 6ms/step - loss: 11.3351 - accuracy: 0.6343 - val_loss: 3.6318 - val_accuracy: 0.8385\n",
      "Epoch 3/5\n",
      "12000/12000 [==============================] - 70s 6ms/step - loss: 8.3633 - accuracy: 0.7068 - val_loss: 3.0269 - val_accuracy: 0.8677\n",
      "Epoch 4/5\n",
      "12000/12000 [==============================] - 70s 6ms/step - loss: 7.0211 - accuracy: 0.7465 - val_loss: 2.7126 - val_accuracy: 0.8808\n",
      "Epoch 5/5\n",
      "12000/12000 [==============================] - 72s 6ms/step - loss: 6.1667 - accuracy: 0.7680 - val_loss: 2.4804 - val_accuracy: 0.8908\n"
     ]
    }
   ],
   "source": [
    "#Fitting\n",
    "\n",
    "nb_epoch = 5\n",
    "batch_size = 5\n",
    "\n",
    "result = model.fit(x1_train, y1_train, batch_size = batch_size, epochs = nb_epoch, validation_data = (x1_test, y1_test))"
   ]
  },
  {
   "cell_type": "code",
   "execution_count": 26,
   "metadata": {},
   "outputs": [
    {
     "name": "stdout",
     "output_type": "stream",
     "text": [
      "Test loss     : 2.4804\n",
      "Test accuracy : 0.8908\n"
     ]
    }
   ],
   "source": [
    "#Poor performances\n",
    "\n",
    "score = model.evaluate(x1_test, y1_test, verbose=0)\n",
    "\n",
    "print(f'Test loss     : {score[0]:4.4f}')\n",
    "print(f'Test accuracy : {score[1]:4.4f}')"
   ]
  },
  {
   "cell_type": "code",
   "execution_count": 27,
   "metadata": {},
   "outputs": [
    {
     "data": {
      "text/html": [
       "<div>\n",
       "<style scoped>\n",
       "    .dataframe tbody tr th:only-of-type {\n",
       "        vertical-align: middle;\n",
       "    }\n",
       "\n",
       "    .dataframe tbody tr th {\n",
       "        vertical-align: top;\n",
       "    }\n",
       "\n",
       "    .dataframe thead th {\n",
       "        text-align: right;\n",
       "    }\n",
       "</style>\n",
       "<table border=\"1\" class=\"dataframe\">\n",
       "  <thead>\n",
       "    <tr style=\"text-align: right;\">\n",
       "      <th></th>\n",
       "      <th>loss</th>\n",
       "      <th>accuracy</th>\n",
       "      <th>val_loss</th>\n",
       "      <th>val_accuracy</th>\n",
       "    </tr>\n",
       "  </thead>\n",
       "  <tbody>\n",
       "    <tr>\n",
       "      <th>0</th>\n",
       "      <td>29.176805</td>\n",
       "      <td>0.383833</td>\n",
       "      <td>5.329431</td>\n",
       "      <td>0.7674</td>\n",
       "    </tr>\n",
       "    <tr>\n",
       "      <th>1</th>\n",
       "      <td>11.335057</td>\n",
       "      <td>0.634317</td>\n",
       "      <td>3.631761</td>\n",
       "      <td>0.8385</td>\n",
       "    </tr>\n",
       "    <tr>\n",
       "      <th>2</th>\n",
       "      <td>8.363284</td>\n",
       "      <td>0.706800</td>\n",
       "      <td>3.026928</td>\n",
       "      <td>0.8677</td>\n",
       "    </tr>\n",
       "    <tr>\n",
       "      <th>3</th>\n",
       "      <td>7.021073</td>\n",
       "      <td>0.746500</td>\n",
       "      <td>2.712647</td>\n",
       "      <td>0.8808</td>\n",
       "    </tr>\n",
       "    <tr>\n",
       "      <th>4</th>\n",
       "      <td>6.166652</td>\n",
       "      <td>0.767983</td>\n",
       "      <td>2.480361</td>\n",
       "      <td>0.8908</td>\n",
       "    </tr>\n",
       "  </tbody>\n",
       "</table>\n",
       "</div>"
      ],
      "text/plain": [
       "        loss  accuracy  val_loss  val_accuracy\n",
       "0  29.176805  0.383833  5.329431        0.7674\n",
       "1  11.335057  0.634317  3.631761        0.8385\n",
       "2   8.363284  0.706800  3.026928        0.8677\n",
       "3   7.021073  0.746500  2.712647        0.8808\n",
       "4   6.166652  0.767983  2.480361        0.8908"
      ]
     },
     "execution_count": 27,
     "metadata": {},
     "output_type": "execute_result"
    }
   ],
   "source": [
    "dfMetrics = pd.DataFrame(result.history)\n",
    "dfMetrics"
   ]
  },
  {
   "cell_type": "code",
   "execution_count": 28,
   "metadata": {},
   "outputs": [
    {
     "data": {
      "text/plain": [
       "Text(0, 0.5, 'accuracy')"
      ]
     },
     "execution_count": 28,
     "metadata": {},
     "output_type": "execute_result"
    },
    {
     "data": {
      "image/png": "[encoded data removed]",
      "text/plain": [
       "<Figure size 576x360 with 1 Axes>"
      ]
     },
     "metadata": {
      "needs_background": "light"
     },
     "output_type": "display_data"
    },
    {
     "data": {
      "image/png": "[encoded data removed]",
      "text/plain": [
       "<Figure size 576x360 with 1 Axes>"
      ]
     },
     "metadata": {
      "needs_background": "light"
     },
     "output_type": "display_data"
    }
   ],
   "source": [
    "figure = dfMetrics.plot(y=[\"loss\", \"val_loss\"], title = \"Loss\", label=[\"loss\", \"val_loss\"], figsize=(8,5), ylim=(0,30))\n",
    "\n",
    "figure.set_xlabel('epochs')\n",
    "figure.set_ylabel('loss')\n",
    "\n",
    "\n",
    "figure2 = dfMetrics.plot(y= [\"accuracy\", \"val_accuracy\"], title = \"Accuracy\", label=[\"accuracy\", \"val_accuracy\"],figsize=(8,5), ylim=(0,1))\n",
    "\n",
    "figure2.set_xlabel('epochs')\n",
    "figure2.set_ylabel('accuracy')\n"
   ]
  },
  {
   "cell_type": "code",
   "execution_count": 30,
   "metadata": {},
   "outputs": [
    {
     "name": "stdout",
     "output_type": "stream",
     "text": [
      "Epoch 1/5\n",
      "120/120 [==============================] - 13s 104ms/step - loss: 69.8241 - accuracy: 0.1128 - val_loss: 32.6402 - val_accuracy: 0.1546\n",
      "Epoch 2/5\n",
      "120/120 [==============================] - 12s 102ms/step - loss: 53.6346 - accuracy: 0.1506 - val_loss: 21.4286 - val_accuracy: 0.2403\n",
      "Epoch 3/5\n",
      "120/120 [==============================] - 12s 103ms/step - loss: 43.4030 - accuracy: 0.2006 - val_loss: 15.2874 - val_accuracy: 0.3665\n",
      "Epoch 4/5\n",
      "120/120 [==============================] - 12s 102ms/step - loss: 35.7726 - accuracy: 0.2569 - val_loss: 11.4753 - val_accuracy: 0.4818\n",
      "Epoch 5/5\n",
      "120/120 [==============================] - 12s 101ms/step - loss: 29.7029 - accuracy: 0.3144 - val_loss: 8.9458 - val_accuracy: 0.5665\n"
     ]
    }
   ],
   "source": [
    "#New try increasing the number of batches\n",
    "\n",
    "#Fitting\n",
    "\n",
    "nb_epoch = 5\n",
    "batch_size = 500\n",
    "\n",
    "result2 = model.fit(x1_train, y1_train, batch_size = batch_size, epochs = nb_epoch, validation_data = (x1_test, y1_test))"
   ]
  },
  {
   "cell_type": "code",
   "execution_count": 31,
   "metadata": {},
   "outputs": [
    {
     "name": "stdout",
     "output_type": "stream",
     "text": [
      "Test loss     : 8.9458\n",
      "Test accuracy : 0.5665\n"
     ]
    }
   ],
   "source": [
    "#Performances\n",
    "\n",
    "score2 = model.evaluate(x1_test, y1_test, verbose=0)\n",
    "\n",
    "print(f'Test loss     : {score2[0]:4.4f}')\n",
    "print(f'Test accuracy : {score2[1]:4.4f}')"
   ]
  },
  {
   "cell_type": "code",
   "execution_count": 32,
   "metadata": {},
   "outputs": [
    {
     "data": {
      "text/html": [
       "<div>\n",
       "<style scoped>\n",
       "    .dataframe tbody tr th:only-of-type {\n",
       "        vertical-align: middle;\n",
       "    }\n",
       "\n",
       "    .dataframe tbody tr th {\n",
       "        vertical-align: top;\n",
       "    }\n",
       "\n",
       "    .dataframe thead th {\n",
       "        text-align: right;\n",
       "    }\n",
       "</style>\n",
       "<table border=\"1\" class=\"dataframe\">\n",
       "  <thead>\n",
       "    <tr style=\"text-align: right;\">\n",
       "      <th></th>\n",
       "      <th>loss</th>\n",
       "      <th>accuracy</th>\n",
       "      <th>val_loss</th>\n",
       "      <th>val_accuracy</th>\n",
       "    </tr>\n",
       "  </thead>\n",
       "  <tbody>\n",
       "    <tr>\n",
       "      <th>0</th>\n",
       "      <td>69.824135</td>\n",
       "      <td>0.112800</td>\n",
       "      <td>32.640247</td>\n",
       "      <td>0.1546</td>\n",
       "    </tr>\n",
       "    <tr>\n",
       "      <th>1</th>\n",
       "      <td>53.634575</td>\n",
       "      <td>0.150617</td>\n",
       "      <td>21.428555</td>\n",
       "      <td>0.2403</td>\n",
       "    </tr>\n",
       "    <tr>\n",
       "      <th>2</th>\n",
       "      <td>43.403011</td>\n",
       "      <td>0.200633</td>\n",
       "      <td>15.287435</td>\n",
       "      <td>0.3665</td>\n",
       "    </tr>\n",
       "    <tr>\n",
       "      <th>3</th>\n",
       "      <td>35.772591</td>\n",
       "      <td>0.256950</td>\n",
       "      <td>11.475317</td>\n",
       "      <td>0.4818</td>\n",
       "    </tr>\n",
       "    <tr>\n",
       "      <th>4</th>\n",
       "      <td>29.702900</td>\n",
       "      <td>0.314350</td>\n",
       "      <td>8.945794</td>\n",
       "      <td>0.5665</td>\n",
       "    </tr>\n",
       "  </tbody>\n",
       "</table>\n",
       "</div>"
      ],
      "text/plain": [
       "        loss  accuracy   val_loss  val_accuracy\n",
       "0  69.824135  0.112800  32.640247        0.1546\n",
       "1  53.634575  0.150617  21.428555        0.2403\n",
       "2  43.403011  0.200633  15.287435        0.3665\n",
       "3  35.772591  0.256950  11.475317        0.4818\n",
       "4  29.702900  0.314350   8.945794        0.5665"
      ]
     },
     "execution_count": 32,
     "metadata": {},
     "output_type": "execute_result"
    }
   ],
   "source": [
    "dfMetrics2 = pd.DataFrame(result2.history)\n",
    "dfMetrics2"
   ]
  },
  {
   "cell_type": "code",
   "execution_count": 33,
   "metadata": {},
   "outputs": [
    {
     "data": {
      "text/plain": [
       "Text(0, 0.5, 'accuracy')"
      ]
     },
     "execution_count": 33,
     "metadata": {},
     "output_type": "execute_result"
    },
    {
     "data": {
      "image/png": "[encoded data removed]",
      "text/plain": [
       "<Figure size 576x360 with 1 Axes>"
      ]
     },
     "metadata": {
      "needs_background": "light"
     },
     "output_type": "display_data"
    },
    {
     "data": {
      "image/png": "[encoded data removed]",
      "text/plain": [
       "<Figure size 576x360 with 1 Axes>"
      ]
     },
     "metadata": {
      "needs_background": "light"
     },
     "output_type": "display_data"
    }
   ],
   "source": [
    "figure = dfMetrics2.plot(y=[\"loss\", \"val_loss\"], title = \"Loss\", label=[\"loss\", \"val_loss\"], figsize=(8,5), ylim=(0,70))\n",
    "\n",
    "figure.set_xlabel('epochs')\n",
    "figure.set_ylabel('loss')\n",
    "\n",
    "\n",
    "figure2 = dfMetrics2.plot(y= [\"accuracy\", \"val_accuracy\"], title = \"Accuracy\", label=[\"accuracy\", \"val_accuracy\"],figsize=(8,5), ylim=(0,1))\n",
    "\n",
    "figure2.set_xlabel('epochs')\n",
    "figure2.set_ylabel('accuracy')\n"
   ]
  },
  {
   "cell_type": "code",
   "execution_count": 35,
   "metadata": {},
   "outputs": [
    {
     "name": "stdout",
     "output_type": "stream",
     "text": [
      "Epoch 1/15\n",
      "120/120 [==============================] - 13s 103ms/step - loss: 59.1655 - accuracy: 0.1049 - val_loss: 29.0465 - val_accuracy: 0.1169\n",
      "Epoch 2/15\n",
      "120/120 [==============================] - 12s 103ms/step - loss: 46.6158 - accuracy: 0.1433 - val_loss: 19.6800 - val_accuracy: 0.2164\n",
      "Epoch 3/15\n",
      "120/120 [==============================] - 12s 101ms/step - loss: 37.7330 - accuracy: 0.1987 - val_loss: 14.2136 - val_accuracy: 0.3374\n",
      "Epoch 4/15\n",
      "120/120 [==============================] - 12s 101ms/step - loss: 31.4023 - accuracy: 0.2535 - val_loss: 10.7324 - val_accuracy: 0.4585\n",
      "Epoch 5/15\n",
      "120/120 [==============================] - 12s 101ms/step - loss: 26.0710 - accuracy: 0.3135 - val_loss: 8.4481 - val_accuracy: 0.5544\n",
      "Epoch 6/15\n",
      "120/120 [==============================] - 12s 103ms/step - loss: 21.7652 - accuracy: 0.3724 - val_loss: 6.9612 - val_accuracy: 0.6236\n",
      "Epoch 7/15\n",
      "120/120 [==============================] - 12s 101ms/step - loss: 18.6875 - accuracy: 0.4210 - val_loss: 5.9163 - val_accuracy: 0.6769\n",
      "Epoch 8/15\n",
      "120/120 [==============================] - 12s 102ms/step - loss: 16.3404 - accuracy: 0.4672 - val_loss: 5.1596 - val_accuracy: 0.7118\n",
      "Epoch 9/15\n",
      "120/120 [==============================] - 12s 103ms/step - loss: 14.3599 - accuracy: 0.5076 - val_loss: 4.6153 - val_accuracy: 0.7410\n",
      "Epoch 10/15\n",
      "120/120 [==============================] - 12s 101ms/step - loss: 12.8440 - accuracy: 0.5458 - val_loss: 4.1865 - val_accuracy: 0.7644\n",
      "Epoch 11/15\n",
      "120/120 [==============================] - 12s 102ms/step - loss: 11.7956 - accuracy: 0.5716 - val_loss: 3.8353 - val_accuracy: 0.7832\n",
      "Epoch 12/15\n",
      "120/120 [==============================] - 12s 102ms/step - loss: 10.9300 - accuracy: 0.5972 - val_loss: 3.5512 - val_accuracy: 0.7966\n",
      "Epoch 13/15\n",
      "120/120 [==============================] - 12s 103ms/step - loss: 10.1441 - accuracy: 0.6178 - val_loss: 3.3311 - val_accuracy: 0.8089\n",
      "Epoch 14/15\n",
      "120/120 [==============================] - 12s 102ms/step - loss: 9.4482 - accuracy: 0.6387 - val_loss: 3.1238 - val_accuracy: 0.8223\n",
      "Epoch 15/15\n",
      "120/120 [==============================] - 12s 103ms/step - loss: 8.9231 - accuracy: 0.6536 - val_loss: 2.9615 - val_accuracy: 0.8328\n"
     ]
    }
   ],
   "source": [
    "#New try increasing the number of epochs\n",
    "\n",
    "#Fitting\n",
    "\n",
    "nb_epoch = 15\n",
    "batch_size = 500\n",
    "\n",
    "result3 = model.fit(x1_train, y1_train, batch_size = batch_size, epochs = nb_epoch, validation_data = (x1_test, y1_test))"
   ]
  },
  {
   "cell_type": "code",
   "execution_count": 36,
   "metadata": {},
   "outputs": [
    {
     "name": "stdout",
     "output_type": "stream",
     "text": [
      "Test loss     : 2.9615\n",
      "Test accuracy : 0.8328\n"
     ]
    }
   ],
   "source": [
    "#Performances\n",
    "\n",
    "score3 = model.evaluate(x1_test, y1_test, verbose=0)\n",
    "\n",
    "print(f'Test loss     : {score3[0]:4.4f}')\n",
    "print(f'Test accuracy : {score3[1]:4.4f}')"
   ]
  },
  {
   "cell_type": "code",
   "execution_count": 37,
   "metadata": {},
   "outputs": [
    {
     "data": {
      "text/html": [
       "<div>\n",
       "<style scoped>\n",
       "    .dataframe tbody tr th:only-of-type {\n",
       "        vertical-align: middle;\n",
       "    }\n",
       "\n",
       "    .dataframe tbody tr th {\n",
       "        vertical-align: top;\n",
       "    }\n",
       "\n",
       "    .dataframe thead th {\n",
       "        text-align: right;\n",
       "    }\n",
       "</style>\n",
       "<table border=\"1\" class=\"dataframe\">\n",
       "  <thead>\n",
       "    <tr style=\"text-align: right;\">\n",
       "      <th></th>\n",
       "      <th>loss</th>\n",
       "      <th>accuracy</th>\n",
       "      <th>val_loss</th>\n",
       "      <th>val_accuracy</th>\n",
       "    </tr>\n",
       "  </thead>\n",
       "  <tbody>\n",
       "    <tr>\n",
       "      <th>0</th>\n",
       "      <td>59.165546</td>\n",
       "      <td>0.104867</td>\n",
       "      <td>29.046453</td>\n",
       "      <td>0.1169</td>\n",
       "    </tr>\n",
       "    <tr>\n",
       "      <th>1</th>\n",
       "      <td>46.615837</td>\n",
       "      <td>0.143283</td>\n",
       "      <td>19.679966</td>\n",
       "      <td>0.2164</td>\n",
       "    </tr>\n",
       "    <tr>\n",
       "      <th>2</th>\n",
       "      <td>37.732994</td>\n",
       "      <td>0.198733</td>\n",
       "      <td>14.213556</td>\n",
       "      <td>0.3374</td>\n",
       "    </tr>\n",
       "    <tr>\n",
       "      <th>3</th>\n",
       "      <td>31.402290</td>\n",
       "      <td>0.253483</td>\n",
       "      <td>10.732437</td>\n",
       "      <td>0.4585</td>\n",
       "    </tr>\n",
       "    <tr>\n",
       "      <th>4</th>\n",
       "      <td>26.071049</td>\n",
       "      <td>0.313483</td>\n",
       "      <td>8.448111</td>\n",
       "      <td>0.5544</td>\n",
       "    </tr>\n",
       "    <tr>\n",
       "      <th>5</th>\n",
       "      <td>21.765169</td>\n",
       "      <td>0.372450</td>\n",
       "      <td>6.961237</td>\n",
       "      <td>0.6236</td>\n",
       "    </tr>\n",
       "    <tr>\n",
       "      <th>6</th>\n",
       "      <td>18.687550</td>\n",
       "      <td>0.421017</td>\n",
       "      <td>5.916266</td>\n",
       "      <td>0.6769</td>\n",
       "    </tr>\n",
       "    <tr>\n",
       "      <th>7</th>\n",
       "      <td>16.340406</td>\n",
       "      <td>0.467150</td>\n",
       "      <td>5.159612</td>\n",
       "      <td>0.7118</td>\n",
       "    </tr>\n",
       "    <tr>\n",
       "      <th>8</th>\n",
       "      <td>14.359927</td>\n",
       "      <td>0.507600</td>\n",
       "      <td>4.615309</td>\n",
       "      <td>0.7410</td>\n",
       "    </tr>\n",
       "    <tr>\n",
       "      <th>9</th>\n",
       "      <td>12.843950</td>\n",
       "      <td>0.545750</td>\n",
       "      <td>4.186457</td>\n",
       "      <td>0.7644</td>\n",
       "    </tr>\n",
       "    <tr>\n",
       "      <th>10</th>\n",
       "      <td>11.795638</td>\n",
       "      <td>0.571567</td>\n",
       "      <td>3.835264</td>\n",
       "      <td>0.7832</td>\n",
       "    </tr>\n",
       "    <tr>\n",
       "      <th>11</th>\n",
       "      <td>10.930008</td>\n",
       "      <td>0.597150</td>\n",
       "      <td>3.551192</td>\n",
       "      <td>0.7966</td>\n",
       "    </tr>\n",
       "    <tr>\n",
       "      <th>12</th>\n",
       "      <td>10.144055</td>\n",
       "      <td>0.617783</td>\n",
       "      <td>3.331084</td>\n",
       "      <td>0.8089</td>\n",
       "    </tr>\n",
       "    <tr>\n",
       "      <th>13</th>\n",
       "      <td>9.448195</td>\n",
       "      <td>0.638733</td>\n",
       "      <td>3.123773</td>\n",
       "      <td>0.8223</td>\n",
       "    </tr>\n",
       "    <tr>\n",
       "      <th>14</th>\n",
       "      <td>8.923096</td>\n",
       "      <td>0.653633</td>\n",
       "      <td>2.961516</td>\n",
       "      <td>0.8328</td>\n",
       "    </tr>\n",
       "  </tbody>\n",
       "</table>\n",
       "</div>"
      ],
      "text/plain": [
       "         loss  accuracy   val_loss  val_accuracy\n",
       "0   59.165546  0.104867  29.046453        0.1169\n",
       "1   46.615837  0.143283  19.679966        0.2164\n",
       "2   37.732994  0.198733  14.213556        0.3374\n",
       "3   31.402290  0.253483  10.732437        0.4585\n",
       "4   26.071049  0.313483   8.448111        0.5544\n",
       "5   21.765169  0.372450   6.961237        0.6236\n",
       "6   18.687550  0.421017   5.916266        0.6769\n",
       "7   16.340406  0.467150   5.159612        0.7118\n",
       "8   14.359927  0.507600   4.615309        0.7410\n",
       "9   12.843950  0.545750   4.186457        0.7644\n",
       "10  11.795638  0.571567   3.835264        0.7832\n",
       "11  10.930008  0.597150   3.551192        0.7966\n",
       "12  10.144055  0.617783   3.331084        0.8089\n",
       "13   9.448195  0.638733   3.123773        0.8223\n",
       "14   8.923096  0.653633   2.961516        0.8328"
      ]
     },
     "execution_count": 37,
     "metadata": {},
     "output_type": "execute_result"
    }
   ],
   "source": [
    "dfMetrics3 = pd.DataFrame(result3.history)\n",
    "dfMetrics3"
   ]
  },
  {
   "cell_type": "code",
   "execution_count": 38,
   "metadata": {},
   "outputs": [
    {
     "data": {
      "text/plain": [
       "Text(0, 0.5, 'accuracy')"
      ]
     },
     "execution_count": 38,
     "metadata": {},
     "output_type": "execute_result"
    },
    {
     "data": {
      "image/png": "[encoded data removed]",
      "text/plain": [
       "<Figure size 576x360 with 1 Axes>"
      ]
     },
     "metadata": {
      "needs_background": "light"
     },
     "output_type": "display_data"
    },
    {
     "data": {
      "image/png": "[encoded data removed]",
      "text/plain": [
       "<Figure size 576x360 with 1 Axes>"
      ]
     },
     "metadata": {
      "needs_background": "light"
     },
     "output_type": "display_data"
    }
   ],
   "source": [
    "figure = dfMetrics3.plot(y=[\"loss\", \"val_loss\"], title = \"Loss\", label=[\"loss\", \"val_loss\"], figsize=(8,5))\n",
    "\n",
    "figure.set_xlabel('epochs')\n",
    "figure.set_ylabel('loss')\n",
    "\n",
    "\n",
    "figure2 = dfMetrics3.plot(y= [\"accuracy\", \"val_accuracy\"], title = \"Accuracy\", label=[\"accuracy\", \"val_accuracy\"],figsize=(8,5))\n",
    "\n",
    "figure2.set_xlabel('epochs')\n",
    "figure2.set_ylabel('accuracy')"
   ]
  },
  {
   "cell_type": "markdown",
   "metadata": {},
   "source": [
    "Better performances, but still not as good as I want"
   ]
  },
  {
   "cell_type": "code",
   "execution_count": 39,
   "metadata": {},
   "outputs": [],
   "source": [
    "#New try with a new model"
   ]
  },
  {
   "cell_type": "code",
   "execution_count": 42,
   "metadata": {},
   "outputs": [],
   "source": [
    "model = Sequential()\n",
    "\n",
    "model.add( keras.layers.Input((28,28,1)) )\n",
    "\n",
    "model.add( keras.layers.Conv2D(8, (3,3),  activation='relu') )\n",
    "model.add( keras.layers.MaxPooling2D((2,2)))\n",
    "model.add( keras.layers.Dropout(0.2))\n",
    "\n",
    "model.add( keras.layers.Conv2D(16, (3,3), activation='relu') )\n",
    "model.add( keras.layers.MaxPooling2D((2,2)))\n",
    "model.add( keras.layers.Dropout(0.2))\n",
    "\n",
    "model.add( keras.layers.Flatten()) \n",
    "model.add( keras.layers.Dense(100, activation='relu'))\n",
    "model.add( keras.layers.Dropout(0.5))\n",
    "\n",
    "model.add( keras.layers.Dense(10, activation='softmax'))\n",
    "\n",
    "model.compile(optimizer='adam',\n",
    "              loss='categorical_crossentropy',\n",
    "              metrics=['accuracy'])"
   ]
  },
  {
   "cell_type": "code",
   "execution_count": 43,
   "metadata": {},
   "outputs": [
    {
     "name": "stdout",
     "output_type": "stream",
     "text": [
      "Model: \"sequential_3\"\n",
      "_________________________________________________________________\n",
      " Layer (type)                Output Shape              Param #   \n",
      "=================================================================\n",
      " conv2d_3 (Conv2D)           (None, 26, 26, 8)         80        \n",
      "                                                                 \n",
      " max_pooling2d_3 (MaxPooling  (None, 13, 13, 8)        0         \n",
      " 2D)                                                             \n",
      "                                                                 \n",
      " dropout_3 (Dropout)         (None, 13, 13, 8)         0         \n",
      "                                                                 \n",
      " conv2d_4 (Conv2D)           (None, 11, 11, 16)        1168      \n",
      "                                                                 \n",
      " max_pooling2d_4 (MaxPooling  (None, 5, 5, 16)         0         \n",
      " 2D)                                                             \n",
      "                                                                 \n",
      " dropout_4 (Dropout)         (None, 5, 5, 16)          0         \n",
      "                                                                 \n",
      " flatten_3 (Flatten)         (None, 400)               0         \n",
      "                                                                 \n",
      " dense_6 (Dense)             (None, 100)               40100     \n",
      "                                                                 \n",
      " dropout_5 (Dropout)         (None, 100)               0         \n",
      "                                                                 \n",
      " dense_7 (Dense)             (None, 10)                1010      \n",
      "                                                                 \n",
      "=================================================================\n",
      "Total params: 42,358\n",
      "Trainable params: 42,358\n",
      "Non-trainable params: 0\n",
      "_________________________________________________________________\n"
     ]
    }
   ],
   "source": [
    "model.summary()"
   ]
  },
  {
   "cell_type": "code",
   "execution_count": 44,
   "metadata": {},
   "outputs": [
    {
     "name": "stdout",
     "output_type": "stream",
     "text": [
      "Epoch 1/18\n",
      "120/120 [==============================] - 7s 56ms/step - loss: 9.8084 - accuracy: 0.1968 - val_loss: 1.9618 - val_accuracy: 0.2821\n",
      "Epoch 2/18\n",
      "120/120 [==============================] - 7s 55ms/step - loss: 2.0629 - accuracy: 0.2474 - val_loss: 1.7273 - val_accuracy: 0.3938\n",
      "Epoch 3/18\n",
      "120/120 [==============================] - 7s 56ms/step - loss: 1.8991 - accuracy: 0.3178 - val_loss: 1.3948 - val_accuracy: 0.5267\n",
      "Epoch 4/18\n",
      "120/120 [==============================] - 7s 56ms/step - loss: 1.6761 - accuracy: 0.4124 - val_loss: 1.0050 - val_accuracy: 0.6912\n",
      "Epoch 5/18\n",
      "120/120 [==============================] - 7s 55ms/step - loss: 1.4374 - accuracy: 0.5180 - val_loss: 0.7368 - val_accuracy: 0.8116\n",
      "Epoch 6/18\n",
      "120/120 [==============================] - 7s 54ms/step - loss: 1.2438 - accuracy: 0.5789 - val_loss: 0.6144 - val_accuracy: 0.8325\n",
      "Epoch 7/18\n",
      "120/120 [==============================] - 7s 55ms/step - loss: 1.1057 - accuracy: 0.6238 - val_loss: 0.4848 - val_accuracy: 0.8978\n",
      "Epoch 8/18\n",
      "120/120 [==============================] - 7s 54ms/step - loss: 0.9577 - accuracy: 0.6833 - val_loss: 0.3534 - val_accuracy: 0.9276\n",
      "Epoch 9/18\n",
      "120/120 [==============================] - 7s 55ms/step - loss: 0.8486 - accuracy: 0.7247 - val_loss: 0.2892 - val_accuracy: 0.9387\n",
      "Epoch 10/18\n",
      "120/120 [==============================] - 7s 55ms/step - loss: 0.7540 - accuracy: 0.7555 - val_loss: 0.2230 - val_accuracy: 0.9458\n",
      "Epoch 11/18\n",
      "120/120 [==============================] - 7s 55ms/step - loss: 0.6741 - accuracy: 0.7812 - val_loss: 0.1928 - val_accuracy: 0.9505\n",
      "Epoch 12/18\n",
      "120/120 [==============================] - 7s 55ms/step - loss: 0.6122 - accuracy: 0.8030 - val_loss: 0.1755 - val_accuracy: 0.9554\n",
      "Epoch 13/18\n",
      "120/120 [==============================] - 7s 55ms/step - loss: 0.5618 - accuracy: 0.8192 - val_loss: 0.1579 - val_accuracy: 0.9574\n",
      "Epoch 14/18\n",
      "120/120 [==============================] - 7s 55ms/step - loss: 0.5184 - accuracy: 0.8329 - val_loss: 0.1428 - val_accuracy: 0.9617\n",
      "Epoch 15/18\n",
      "120/120 [==============================] - 7s 55ms/step - loss: 0.4821 - accuracy: 0.8440 - val_loss: 0.1273 - val_accuracy: 0.9649\n",
      "Epoch 16/18\n",
      "120/120 [==============================] - 7s 56ms/step - loss: 0.4444 - accuracy: 0.8582 - val_loss: 0.1177 - val_accuracy: 0.9678\n",
      "Epoch 17/18\n",
      "120/120 [==============================] - 7s 56ms/step - loss: 0.4188 - accuracy: 0.8677 - val_loss: 0.1076 - val_accuracy: 0.9689\n",
      "Epoch 18/18\n",
      "120/120 [==============================] - 7s 55ms/step - loss: 0.3916 - accuracy: 0.8770 - val_loss: 0.1018 - val_accuracy: 0.9713\n"
     ]
    }
   ],
   "source": [
    "#Fitting\n",
    "\n",
    "nb_epoch = 18\n",
    "batch_size = 500\n",
    "\n",
    "result4 = model.fit(x1_train, y1_train, batch_size = batch_size, epochs = nb_epoch, verbose = 1, validation_data = (x1_test, y1_test))"
   ]
  },
  {
   "cell_type": "code",
   "execution_count": 45,
   "metadata": {},
   "outputs": [
    {
     "name": "stdout",
     "output_type": "stream",
     "text": [
      "Test loss     : 0.1018\n",
      "Test accuracy : 0.9713\n"
     ]
    }
   ],
   "source": [
    "#Performances\n",
    "\n",
    "score4 = model.evaluate(x1_test, y1_test, verbose=0)\n",
    "\n",
    "print(f'Test loss     : {score4[0]:4.4f}')\n",
    "print(f'Test accuracy : {score4[1]:4.4f}')"
   ]
  },
  {
   "cell_type": "code",
   "execution_count": 46,
   "metadata": {},
   "outputs": [
    {
     "data": {
      "text/html": [
       "<div>\n",
       "<style scoped>\n",
       "    .dataframe tbody tr th:only-of-type {\n",
       "        vertical-align: middle;\n",
       "    }\n",
       "\n",
       "    .dataframe tbody tr th {\n",
       "        vertical-align: top;\n",
       "    }\n",
       "\n",
       "    .dataframe thead th {\n",
       "        text-align: right;\n",
       "    }\n",
       "</style>\n",
       "<table border=\"1\" class=\"dataframe\">\n",
       "  <thead>\n",
       "    <tr style=\"text-align: right;\">\n",
       "      <th></th>\n",
       "      <th>loss</th>\n",
       "      <th>accuracy</th>\n",
       "      <th>val_loss</th>\n",
       "      <th>val_accuracy</th>\n",
       "    </tr>\n",
       "  </thead>\n",
       "  <tbody>\n",
       "    <tr>\n",
       "      <th>0</th>\n",
       "      <td>9.808432</td>\n",
       "      <td>0.196750</td>\n",
       "      <td>1.961783</td>\n",
       "      <td>0.2821</td>\n",
       "    </tr>\n",
       "    <tr>\n",
       "      <th>1</th>\n",
       "      <td>2.062944</td>\n",
       "      <td>0.247417</td>\n",
       "      <td>1.727258</td>\n",
       "      <td>0.3938</td>\n",
       "    </tr>\n",
       "    <tr>\n",
       "      <th>2</th>\n",
       "      <td>1.899135</td>\n",
       "      <td>0.317767</td>\n",
       "      <td>1.394762</td>\n",
       "      <td>0.5267</td>\n",
       "    </tr>\n",
       "    <tr>\n",
       "      <th>3</th>\n",
       "      <td>1.676139</td>\n",
       "      <td>0.412450</td>\n",
       "      <td>1.005014</td>\n",
       "      <td>0.6912</td>\n",
       "    </tr>\n",
       "    <tr>\n",
       "      <th>4</th>\n",
       "      <td>1.437399</td>\n",
       "      <td>0.518033</td>\n",
       "      <td>0.736847</td>\n",
       "      <td>0.8116</td>\n",
       "    </tr>\n",
       "    <tr>\n",
       "      <th>5</th>\n",
       "      <td>1.243769</td>\n",
       "      <td>0.578933</td>\n",
       "      <td>0.614358</td>\n",
       "      <td>0.8325</td>\n",
       "    </tr>\n",
       "    <tr>\n",
       "      <th>6</th>\n",
       "      <td>1.105715</td>\n",
       "      <td>0.623817</td>\n",
       "      <td>0.484845</td>\n",
       "      <td>0.8978</td>\n",
       "    </tr>\n",
       "    <tr>\n",
       "      <th>7</th>\n",
       "      <td>0.957727</td>\n",
       "      <td>0.683283</td>\n",
       "      <td>0.353355</td>\n",
       "      <td>0.9276</td>\n",
       "    </tr>\n",
       "    <tr>\n",
       "      <th>8</th>\n",
       "      <td>0.848598</td>\n",
       "      <td>0.724683</td>\n",
       "      <td>0.289186</td>\n",
       "      <td>0.9387</td>\n",
       "    </tr>\n",
       "    <tr>\n",
       "      <th>9</th>\n",
       "      <td>0.754048</td>\n",
       "      <td>0.755483</td>\n",
       "      <td>0.223046</td>\n",
       "      <td>0.9458</td>\n",
       "    </tr>\n",
       "    <tr>\n",
       "      <th>10</th>\n",
       "      <td>0.674125</td>\n",
       "      <td>0.781217</td>\n",
       "      <td>0.192805</td>\n",
       "      <td>0.9505</td>\n",
       "    </tr>\n",
       "    <tr>\n",
       "      <th>11</th>\n",
       "      <td>0.612220</td>\n",
       "      <td>0.802950</td>\n",
       "      <td>0.175502</td>\n",
       "      <td>0.9554</td>\n",
       "    </tr>\n",
       "    <tr>\n",
       "      <th>12</th>\n",
       "      <td>0.561761</td>\n",
       "      <td>0.819217</td>\n",
       "      <td>0.157939</td>\n",
       "      <td>0.9574</td>\n",
       "    </tr>\n",
       "    <tr>\n",
       "      <th>13</th>\n",
       "      <td>0.518356</td>\n",
       "      <td>0.832883</td>\n",
       "      <td>0.142766</td>\n",
       "      <td>0.9617</td>\n",
       "    </tr>\n",
       "    <tr>\n",
       "      <th>14</th>\n",
       "      <td>0.482091</td>\n",
       "      <td>0.844000</td>\n",
       "      <td>0.127301</td>\n",
       "      <td>0.9649</td>\n",
       "    </tr>\n",
       "    <tr>\n",
       "      <th>15</th>\n",
       "      <td>0.444391</td>\n",
       "      <td>0.858217</td>\n",
       "      <td>0.117716</td>\n",
       "      <td>0.9678</td>\n",
       "    </tr>\n",
       "    <tr>\n",
       "      <th>16</th>\n",
       "      <td>0.418757</td>\n",
       "      <td>0.867717</td>\n",
       "      <td>0.107592</td>\n",
       "      <td>0.9689</td>\n",
       "    </tr>\n",
       "    <tr>\n",
       "      <th>17</th>\n",
       "      <td>0.391627</td>\n",
       "      <td>0.877033</td>\n",
       "      <td>0.101782</td>\n",
       "      <td>0.9713</td>\n",
       "    </tr>\n",
       "  </tbody>\n",
       "</table>\n",
       "</div>"
      ],
      "text/plain": [
       "        loss  accuracy  val_loss  val_accuracy\n",
       "0   9.808432  0.196750  1.961783        0.2821\n",
       "1   2.062944  0.247417  1.727258        0.3938\n",
       "2   1.899135  0.317767  1.394762        0.5267\n",
       "3   1.676139  0.412450  1.005014        0.6912\n",
       "4   1.437399  0.518033  0.736847        0.8116\n",
       "5   1.243769  0.578933  0.614358        0.8325\n",
       "6   1.105715  0.623817  0.484845        0.8978\n",
       "7   0.957727  0.683283  0.353355        0.9276\n",
       "8   0.848598  0.724683  0.289186        0.9387\n",
       "9   0.754048  0.755483  0.223046        0.9458\n",
       "10  0.674125  0.781217  0.192805        0.9505\n",
       "11  0.612220  0.802950  0.175502        0.9554\n",
       "12  0.561761  0.819217  0.157939        0.9574\n",
       "13  0.518356  0.832883  0.142766        0.9617\n",
       "14  0.482091  0.844000  0.127301        0.9649\n",
       "15  0.444391  0.858217  0.117716        0.9678\n",
       "16  0.418757  0.867717  0.107592        0.9689\n",
       "17  0.391627  0.877033  0.101782        0.9713"
      ]
     },
     "execution_count": 46,
     "metadata": {},
     "output_type": "execute_result"
    }
   ],
   "source": [
    "dfMetrics4 = pd.DataFrame(result4.history)\n",
    "dfMetrics4"
   ]
  },
  {
   "cell_type": "code",
   "execution_count": 47,
   "metadata": {},
   "outputs": [
    {
     "data": {
      "text/plain": [
       "Text(0, 0.5, 'accuracy')"
      ]
     },
     "execution_count": 47,
     "metadata": {},
     "output_type": "execute_result"
    },
    {
     "data": {
      "image/png": "[encoded data removed]",
      "text/plain": [
       "<Figure size 576x360 with 1 Axes>"
      ]
     },
     "metadata": {
      "needs_background": "light"
     },
     "output_type": "display_data"
    },
    {
     "data": {
      "image/png": "[encoded data removed]",
      "text/plain": [
       "<Figure size 576x360 with 1 Axes>"
      ]
     },
     "metadata": {
      "needs_background": "light"
     },
     "output_type": "display_data"
    }
   ],
   "source": [
    "figure = dfMetrics4.plot(y=[\"loss\", \"val_loss\"], title = \"Loss\", label=[\"loss\", \"val_loss\"], figsize=(8,5))\n",
    "\n",
    "figure.set_xlabel('epochs')\n",
    "figure.set_ylabel('loss')\n",
    "\n",
    "\n",
    "figure2 = dfMetrics4.plot(y= [\"accuracy\", \"val_accuracy\"], title = \"Accuracy\", label=[\"accuracy\", \"val_accuracy\"],figsize=(8,5))\n",
    "\n",
    "figure2.set_xlabel('epochs')\n",
    "figure2.set_ylabel('accuracy')"
   ]
  }
 ],
 "metadata": {
  "kernelspec": {
   "display_name": "Python 3",
   "language": "python",
   "name": "python3"
  },
  "language_info": {
   "codemirror_mode": {
    "name": "ipython",
    "version": 3
   },
   "file_extension": ".py",
   "mimetype": "text/x-python",
   "name": "python",
   "nbconvert_exporter": "python",
   "pygments_lexer": "ipython3",
   "version": "3.8.3"
  }
 },
 "nbformat": 4,
 "nbformat_minor": 4
}
